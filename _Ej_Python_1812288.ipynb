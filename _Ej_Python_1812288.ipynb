{
 "cells": [
  {
   "cell_type": "markdown",
   "metadata": {},
   "source": [
    "# Ejercicio 1:"
   ]
  },
  {
   "cell_type": "markdown",
   "metadata": {},
   "source": [
    "Realiza una variable con tu matricula y realiza una secuencia de imprimir con tu nombre y tu matricula concatenados."
   ]
  },
  {
   "cell_type": "code",
   "execution_count": 139,
   "metadata": {},
   "outputs": [
    {
     "name": "stdout",
     "output_type": "stream",
     "text": [
      "Introduce tu matrícula:1812288\n",
      "Dayana Guadalupe Reyes Joaquín- 1812288\n"
     ]
    }
   ],
   "source": [
    "matricula = int(input(\"Introduce tu matrícula:\" ))\n",
    "print (\"Dayana Guadalupe Reyes Joaquín-\" , matricula)"
   ]
  },
  {
   "cell_type": "markdown",
   "metadata": {},
   "source": [
    "# Ejercicio 2:\n",
    "Pidiendo el input del usuario pide dos números y crea una pequeña calculadora con los operadores básicos de suma, resta, multiplicación, división, y exponente."
   ]
  },
  {
   "cell_type": "code",
   "execution_count": 140,
   "metadata": {},
   "outputs": [
    {
     "name": "stdout",
     "output_type": "stream",
     "text": [
      "Introduzca el primer número:5\n",
      "Introduzca el segundo número:2\n",
      "5 + 2 = 7\n",
      "5 - 2 = 3\n",
      "5 * 2 = 10\n",
      "5 / 2 = 2.5\n",
      "5 ** 2 = 25\n"
     ]
    }
   ],
   "source": [
    "num1= int(input(\"Introduzca el primer número:\"))\n",
    "num2= int(input(\"Introduzca el segundo número:\"))\n",
    "\n",
    "suma=num1+num2\n",
    "resta=num1-num2\n",
    "mult=num1*num2\n",
    "div=num1/num2\n",
    "exp=num1**num2\n",
    "print (num1,\"+\", num2,\"=\",suma)\n",
    "print (num1,\"-\", num2,\"=\",resta)\n",
    "print (num1,\"*\", num2,\"=\",mult)\n",
    "print (num1,\"/\", num2,\"=\",div)\n",
    "print (num1,\"**\", num2,\"=\",exp)"
   ]
  },
  {
   "cell_type": "markdown",
   "metadata": {},
   "source": [
    "# Ejercicio 3:\n",
    "Con loop while o for, realiza una lista de 10 numeros multiplos de 3, y después realiza una función de loop que sume todos los números dentro del arreglo."
   ]
  },
  {
   "cell_type": "code",
   "execution_count": 89,
   "metadata": {},
   "outputs": [
    {
     "name": "stdout",
     "output_type": "stream",
     "text": [
      "3\n",
      "6\n",
      "9\n",
      "12\n",
      "15\n",
      "18\n",
      "21\n",
      "24\n",
      "27\n",
      "30\n",
      "La suma de los número múltiplos de 3 es-> 165\n"
     ]
    }
   ],
   "source": [
    "i=1\n",
    "suma=0\n",
    "\n",
    "for i in range(1,31):\n",
    "    if i%3==0:\n",
    "        print(i)\n",
    "        suma=suma+i\n",
    "        i=i+1\n",
    "print(\"La suma de los número múltiplos de 3 es->\", suma)\n",
    "    \n",
    "#i =+1"
   ]
  },
  {
   "cell_type": "markdown",
   "metadata": {},
   "source": [
    "# Ejercicio 4\n",
    "-Con una función de if else, revisar si un número es par o es impar.\n",
    "\n",
    "-Con una función de if else, revisar si un número es primo o no."
   ]
  },
  {
   "cell_type": "code",
   "execution_count": 20,
   "metadata": {},
   "outputs": [
    {
     "name": "stdout",
     "output_type": "stream",
     "text": [
      "Introduzca algún número:8\n",
      "El numero que introdujo es par: 8\n"
     ]
    }
   ],
   "source": [
    "num1= int(input(\"Introduzca algún número:\"))\n",
    "\n",
    "if num1%2==0:\n",
    "    print (\"El numero que introdujo es par:\", num1)\n",
    "else:\n",
    "    print (\"El numero que introdujo NO es par:\", num1)\n"
   ]
  },
  {
   "cell_type": "code",
   "execution_count": 74,
   "metadata": {},
   "outputs": [
    {
     "name": "stdout",
     "output_type": "stream",
     "text": [
      "Introduzca algún número para saber si es primo: 4\n",
      "divisor: 2\n",
      "***El número NO es primo***\n"
     ]
    }
   ],
   "source": [
    "num1= int(input(\"Introduzca algún número para saber si es primo: \"))\n",
    "\n",
    "valor=range(2, num1)\n",
    "i=0\n",
    "for n in valor:\n",
    "    if num1%n==0:\n",
    "        i=i+1\n",
    "        print(\"divisor:\", n)\n",
    "    \n",
    "if i>0:\n",
    "    print (\"***El número NO es primo***\")\n",
    "else:\n",
    "    print (\"***El número SÍ es primo***\")\n",
    "    \n",
    "    #unipython.com"
   ]
  },
  {
   "cell_type": "markdown",
   "metadata": {},
   "source": [
    "# Ejercicio 5\n",
    "Utilizando diferentes clases en python, crea una calculadora con los operadores básicos de suma, resta, multiplicación, división, y exponente."
   ]
  },
  {
   "cell_type": "code",
   "execution_count": 141,
   "metadata": {},
   "outputs": [
    {
     "name": "stdout",
     "output_type": "stream",
     "text": [
      "Introduzca el primer número:5\n",
      "Introduzca el segundo número:2\n",
      "-Suma(5,2) --> 7\n",
      "-Resta(5,2) --> 3\n",
      "-Multiplicación(5,2) --> 10\n",
      "-División(5,2) --> 2.5\n",
      "-Exponente(5,2) --> 25\n"
     ]
    }
   ],
   "source": [
    "a=int(input(\"Introduzca el primer número:\"))\n",
    "b=int(input(\"Introduzca el segundo número:\"))\n",
    "def Suma(a,b):\n",
    "    c=a+b\n",
    "    return c\n",
    "print(\"-Suma(%d,%d) -->\"%(a,b), Suma(a, b))\n",
    "\n",
    "def Resta(a,b):\n",
    "    c=a-b\n",
    "    return c\n",
    "print(\"-Resta(%d,%d) -->\"%(a,b), Resta(a, b))\n",
    "\n",
    "def Multiplicacion(a,b):\n",
    "    c=a*b\n",
    "    return c\n",
    "print(\"-Multiplicación(%d,%d) -->\"%(a,b), Multiplicacion(a, b))\n",
    "\n",
    "def Division(a,b):\n",
    "    c=a/b\n",
    "    return c\n",
    "print(\"-División(%d,%d) -->\"%(a,b), Division(a, b))\n",
    "\n",
    "def Exponente(a,b):\n",
    "    c=a**b\n",
    "    return c\n",
    "print(\"-Exponente(%d,%d) -->\"%(a,b), Exponente(a, b))"
   ]
  },
  {
   "cell_type": "markdown",
   "metadata": {},
   "source": [
    "# Ejercicios con Estructuras básica de Python\n",
    "\n",
    "### >Tuplas\n",
    "\n"
   ]
  },
  {
   "cell_type": "markdown",
   "metadata": {},
   "source": [
    "##### Crear una variable flotante, integer, boleana y compleja e imprimir el tipo de variable que es.\n"
   ]
  },
  {
   "cell_type": "code",
   "execution_count": 92,
   "metadata": {},
   "outputs": [
    {
     "name": "stdout",
     "output_type": "stream",
     "text": [
      "el tipo de variable de 3.5676 es: <class 'float'>\n",
      "el tipo de variable de 8 es: <class 'int'>\n",
      "el tipo de variable de 3j es: <class 'complex'>\n",
      "el tipo de variable de True es: <class 'bool'>\n"
     ]
    }
   ],
   "source": [
    "var1=3.5676\n",
    "print(\"el tipo de variable de 3.5676 es:\", type(var1))\n",
    "\n",
    "var2=8\n",
    "print(\"el tipo de variable de 8 es:\",type(var2))\n",
    "\n",
    "var3=3j\n",
    "print(\"el tipo de variable de 3j es:\",type(var3))\n",
    "\n",
    "var4=True\n",
    "print(\"el tipo de variable de True es:\",type(var4))"
   ]
  },
  {
   "cell_type": "markdown",
   "metadata": {},
   "source": [
    "##### Crear una tupla con valores enteros imprimir el primer y ultimo valor."
   ]
  },
  {
   "cell_type": "code",
   "execution_count": 21,
   "metadata": {},
   "outputs": [
    {
     "name": "stdout",
     "output_type": "stream",
     "text": [
      "El primer valor es:  1\n",
      "El último valor es:  5\n"
     ]
    }
   ],
   "source": [
    "t1=(1, 2, 3, 4, 5)\n",
    "type(t1)\n",
    "print (\"El primer valor es: \", t1[0])\n",
    "print (\"El último valor es: \", t1[4])"
   ]
  },
  {
   "cell_type": "markdown",
   "metadata": {},
   "source": [
    "##### -Añadir 3 valores de string a la tupla.\n",
    "\n",
    "##### -Verificar si una variable existe dentro de la tupla."
   ]
  },
  {
   "cell_type": "code",
   "execution_count": 79,
   "metadata": {},
   "outputs": [
    {
     "data": {
      "text/plain": [
       "False"
      ]
     },
     "execution_count": 79,
     "metadata": {},
     "output_type": "execute_result"
    }
   ],
   "source": [
    "t1=(1, 2, 3, 4, 5, \"dayana\", \"diciembre\", \"plantas\")\n",
    "type(t1)\n",
    "\n",
    "#verificar si está en la tupla\n",
    "9 in t1\n",
    "    "
   ]
  },
  {
   "cell_type": "markdown",
   "metadata": {},
   "source": [
    "### Listas\n",
    "-Crear una lista con 40 elementos aleatorios enteros.\n",
    "\n",
    "-Con una funcion (def) crear dos listas nuevas a partir de la lista creada por numeros aleatorios, en la cual en una esten los elementos pares, y en la otra los elementos impares.\n",
    "\n",
    "-Crear dos variables con la longitud de ambas listas nuevas e imprimir las variables.\n",
    "\n",
    "-Ordenar los elementos de la lista par de mayor a menor, y los de la lista impar de menor a mayor.\n",
    "\n",
    "-Utilizar al menos cuatro de las funciones de listas en python en la lista original de 40 elementos."
   ]
  },
  {
   "cell_type": "code",
   "execution_count": 36,
   "metadata": {},
   "outputs": [
    {
     "name": "stdout",
     "output_type": "stream",
     "text": [
      "\n",
      "Los números pares son:  [2, 4, 6, 8, 10, 12, 14, 16, 18, 20, 22, 24, 26, 28, 30, 32, 34, 36, 38, 40]\n",
      "El número de elementos de la lista es:  20\n",
      "El orden descendente es:  [40, 38, 36, 34, 32, 30, 28, 26, 24, 22, 20, 18, 16, 14, 12, 10, 8, 6, 4, 2]\n",
      "\n",
      "Los números impares son:  [1, 3, 5, 7, 9, 11, 13, 15, 17, 19, 21, 23, 25, 27, 29, 31, 33, 35, 37, 39]\n",
      "El número de elementos de la lista es:  20\n",
      "El orden ascendente es:  [1, 3, 5, 7, 9, 11, 13, 15, 17, 19, 21, 23, 25, 27, 29, 31, 33, 35, 37, 39]\n"
     ]
    }
   ],
   "source": [
    "list1=[1, 2, 3, 4, 5, 6, 7, 8, 9, 10, 11, 12, 13, 14, 15, 16, 17, 18, 19, 20, 21, 22, 23, 24, 25, 26, 27, 28, 29, 30, 31, 32, 33, 34, 35, 36, 37, 38, 39 ,40]\n",
    "\n",
    "def extraer_pares(lista):\n",
    "    pares=[]\n",
    "    \n",
    "    for  n in lista:\n",
    "        if n%2==0:\n",
    "            pares.append(n)\n",
    "            \n",
    "    return pares\n",
    "\n",
    "print()\n",
    "\n",
    "resultado=extraer_pares(list1)\n",
    "\n",
    "print(\"Los números pares son: \", resultado)\n",
    "print(\"El número de elementos de la lista es: \", len(resultado))\n",
    "print(\"El orden descendente es: \", sorted(resultado, reverse=True))\n",
    "\n",
    "def extraer_impares(lista):\n",
    "    impares=[]\n",
    "    \n",
    "    for  n in lista:\n",
    "        if n%2!=0:\n",
    "            impares.append(n)\n",
    "            \n",
    "    return impares\n",
    "\n",
    "print()\n",
    "\n",
    "resultado=extraer_impares(list1)\n",
    "\n",
    "print(\"Los números impares son: \", resultado)\n",
    "print(\"El número de elementos de la lista es: \", len(resultado))\n",
    "print(\"El orden ascendente es: \", sorted(resultado))"
   ]
  },
  {
   "cell_type": "code",
   "execution_count": 46,
   "metadata": {},
   "outputs": [
    {
     "data": {
      "text/plain": [
       "[9, 4, 8, 2]"
      ]
     },
     "execution_count": 46,
     "metadata": {},
     "output_type": "execute_result"
    }
   ],
   "source": [
    "list1=[1, 2, 3, 4, 5, 6, 7, 8, 9, 10, 11, 12, 13, 14, 15, 16, 17, 18, 19, 20, 21, 22, 23, 24, 25, 26, 27, 28, 29, 30, 31, 32, 33, 34, 35, 36, 37, 38, 39 ,40]\n",
    "\n",
    "#Eliminar todos los elementos de la lista\n",
    "list1.clear()\n",
    "\n",
    "#Añadir elemento al final de la lista\n",
    "list1.append(9)\n",
    "list1\n",
    "\n",
    "#Combinar 2 listas\n",
    "list1.extend([4, 8, 2, 5])\n",
    "list1\n",
    "\n",
    "#Eliminar el último dato de la lista\n",
    "list1.pop()\n",
    "list1"
   ]
  },
  {
   "cell_type": "markdown",
   "metadata": {},
   "source": [
    "### Diccionarios"
   ]
  },
  {
   "cell_type": "markdown",
   "metadata": {},
   "source": [
    "##### -Crear un diccionario de 6 personas que conozcas con su primer nombre y su edad.\n",
    "\n",
    "##### -Crear una lista con los valores de la edad y reacomodar la lista de menor a mayor valor.\n"
   ]
  },
  {
   "cell_type": "code",
   "execution_count": 110,
   "metadata": {},
   "outputs": [
    {
     "name": "stdout",
     "output_type": "stream",
     "text": [
      "Lista ordenada de menor a mayor:  [14, 16, 18, 20, 21, 35]\n"
     ]
    }
   ],
   "source": [
    "Dic1={'Julissa':18, 'Jesus':14, 'Ignacio':16, 'Cecilia':35, 'Karla':21, 'Cynthia':20}\n",
    "type(Dic1)\n",
    "\n",
    "lista_Edad=Dic1.values()\n",
    "print(\"Edades ordenados de menor a mayor: \", (sorted(lista_Edad)))"
   ]
  },
  {
   "cell_type": "markdown",
   "metadata": {},
   "source": [
    "##### -Usando el diccionario y un loop, imprimir solo los nombres."
   ]
  },
  {
   "cell_type": "code",
   "execution_count": 114,
   "metadata": {},
   "outputs": [
    {
     "name": "stdout",
     "output_type": "stream",
     "text": [
      "dict_keys(['Julissa', 'Jesus', 'Ignacio', 'Cecilia', 'Karla', 'Cynthia'])\n"
     ]
    }
   ],
   "source": [
    "Dic1={'Julissa':18, 'Jesus':14, 'Ignacio':16, 'Cecilia':35, 'Karla':21, 'Cynthia':20}\n",
    "type(Dic1)\n",
    "\n",
    "lista_nombres=Dic1.keys()\n",
    "print(lista_nombres)"
   ]
  },
  {
   "cell_type": "markdown",
   "metadata": {},
   "source": [
    "##### -Añadir dos personas nuevas a tu diccionario, incluyendo edad."
   ]
  },
  {
   "cell_type": "code",
   "execution_count": 116,
   "metadata": {},
   "outputs": [
    {
     "data": {
      "text/plain": [
       "{'Julissa': 18,\n",
       " 'Jesus': 14,\n",
       " 'Ignacio': 16,\n",
       " 'Cecilia': 35,\n",
       " 'Karla': 21,\n",
       " 'Cynthia': 20,\n",
       " 'Rosa': '21',\n",
       " 'Jimena': '20'}"
      ]
     },
     "execution_count": 116,
     "metadata": {},
     "output_type": "execute_result"
    }
   ],
   "source": [
    "Dic1={'Julissa':18, 'Jesus':14, 'Ignacio':16, 'Cecilia':35, 'Karla':21, 'Cynthia':20}\n",
    "Dic1['Rosa']='21'\n",
    "Dic1['Jimena']='20'\n",
    "Dic1"
   ]
  },
  {
   "cell_type": "code",
   "execution_count": null,
   "metadata": {},
   "outputs": [],
   "source": []
  },
  {
   "cell_type": "markdown",
   "metadata": {},
   "source": [
    "### Sets\n",
    "-Crea un set con 100 numeros aleatorios enteros del 1 al 25.\n",
    "\n",
    "-Comprueba la longitud de tu set.\n",
    "\n",
    "-Crea una lista de 5 numeros aleatorios del 1 al 10 y comprueba si cada valor aparece en el set inicial."
   ]
  },
  {
   "cell_type": "code",
   "execution_count": 138,
   "metadata": {},
   "outputs": [
    {
     "name": "stdout",
     "output_type": "stream",
     "text": [
      "La longitud del set es:  25\n"
     ]
    },
    {
     "data": {
      "text/plain": [
       "{2, 4, 5, 6, 7}"
      ]
     },
     "execution_count": 138,
     "metadata": {},
     "output_type": "execute_result"
    }
   ],
   "source": [
    "set1={14, 17, 13, 6, 19, 20, 14, 13, 24, 24, 10, 3, 13, 21, 25, 4, 13, 7, 24, 8, 4, 11, 13, 21, 19, 12, 9, 8, 7, 15, 19, 15, 19,\n",
    "16, 1, 12, 9, 19, 13, 5, 20, 7, 3, 11, 5, 12, 23, 21, 21, 15, 20, 25, 25, 14, 3, 20, 20, 23, 24, 18, 4, 19, 2, 16, 23, 24, 11,\n",
    "21, 1, 2, 3, 6, 5, 14, 13, 24, 12, 22, 25, 14, 4, 25, 14, 14, 8, 12, 23, 11, 14, 22, 13, 5, 22, 14, 10, 9, 16, 16, 8, 13}\n",
    "\n",
    "print(\"La longitud del set es: \", len(set1))\n",
    "\n",
    "lista1=[5, 7, 2, 4, 6]\n",
    "set(lista1)\n",
    "\n"
   ]
  }
 ],
 "metadata": {
  "kernelspec": {
   "display_name": "Python 3",
   "language": "python",
   "name": "python3"
  },
  "language_info": {
   "codemirror_mode": {
    "name": "ipython",
    "version": 3
   },
   "file_extension": ".py",
   "mimetype": "text/x-python",
   "name": "python",
   "nbconvert_exporter": "python",
   "pygments_lexer": "ipython3",
   "version": "3.8.5"
  }
 },
 "nbformat": 4,
 "nbformat_minor": 4
}
